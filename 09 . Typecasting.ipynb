{
 "cells": [
  {
   "cell_type": "code",
   "execution_count": 8,
   "id": "c9260b6e",
   "metadata": {},
   "outputs": [
    {
     "name": "stdout",
     "output_type": "stream",
     "text": [
      "<class 'int'> <class 'float'> <class 'float'> 9.6\n",
      "12\n",
      "3\n"
     ]
    }
   ],
   "source": [
    "# Two types of typecasting in python : Implicit conversion and explicit conversion\n",
    "# Implicit conversion : data types in python do not have same level, while performing operation on different datatype, one of the variable's datatype converted in higher data type by python interpreter itself (automatically) python convert a smaller data type into higher datatype to prevent data loss\n",
    "c=8 # int\n",
    "d=1.6 # float\n",
    "print(type(c),type(d),type(c+d),c+d) # higher datatype float\n",
    "\n",
    "# explicit conversion : conversion of one datatype into another data type ny developer's intervention or manually as per requirement \n",
    "\n",
    "a =\"1\"\n",
    "b =\"2\"\n",
    "# c=int(\"string\") error as string is not a valid integer\n",
    "print(a+b)\n",
    "print(int(a)+int(b))\n",
    "# print(a+c) "
   ]
  },
  {
   "cell_type": "code",
   "execution_count": null,
   "id": "b8092d4b",
   "metadata": {},
   "outputs": [],
   "source": []
  }
 ],
 "metadata": {
  "kernelspec": {
   "display_name": "Python 3 (ipykernel)",
   "language": "python",
   "name": "python3"
  },
  "language_info": {
   "codemirror_mode": {
    "name": "ipython",
    "version": 3
   },
   "file_extension": ".py",
   "mimetype": "text/x-python",
   "name": "python",
   "nbconvert_exporter": "python",
   "pygments_lexer": "ipython3",
   "version": "3.9.13"
  }
 },
 "nbformat": 4,
 "nbformat_minor": 5
}
