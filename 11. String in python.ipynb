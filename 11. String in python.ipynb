{
 "cells": [
  {
   "cell_type": "code",
   "execution_count": 8,
   "id": "e722cf59",
   "metadata": {},
   "outputs": [
    {
     "name": "stdout",
     "output_type": "stream",
     "text": [
      "he said, \"I want to eat an apple\"\n",
      "he said, \"I want to eat an apple\"\n"
     ]
    }
   ],
   "source": [
    "# string : sequence or array of textual data, string are used when working with unicode data\n",
    "name =\"vaish\"\n",
    "# using double quotes inside string\n",
    "# apple =\"he said, \"I want to eat an apple\"\" not correct\n",
    "apple ='he said, \"I want to eat an apple\"'\n",
    "print(apple)\n",
    "app =\"he said, \\\"I want to eat an apple\\\"\"\n",
    "print(app)"
   ]
  },
  {
   "cell_type": "code",
   "execution_count": 12,
   "id": "74d6eb44",
   "metadata": {},
   "outputs": [
    {
     "name": "stdout",
     "output_type": "stream",
     "text": [
      "hey\n",
      "how are you?\n",
      "hey\n",
      "how are you?\n"
     ]
    }
   ],
   "source": [
    "# multiline strings : use triple single/double quotes\n",
    "\"\"\"say = \"hey\n",
    "how are you?\"\n",
    "not correct\"\"\"\n",
    "\n",
    "say ='''hey\n",
    "how are you?'''\n",
    "print(say)\n",
    "\n",
    "said =\"\"\"hey\n",
    "how are you?\"\"\"\n",
    "print(said)"
   ]
  },
  {
   "cell_type": "code",
   "execution_count": 14,
   "id": "4a9cb2ec",
   "metadata": {},
   "outputs": [
    {
     "ename": "IndexError",
     "evalue": "string index out of range",
     "output_type": "error",
     "traceback": [
      "\u001b[1;31m---------------------------------------------------------------------------\u001b[0m",
      "\u001b[1;31mIndexError\u001b[0m                                Traceback (most recent call last)",
      "\u001b[1;32m~\\AppData\\Local\\Temp\\ipykernel_7560\\3916967431.py\u001b[0m in \u001b[0;36m<module>\u001b[1;34m\u001b[0m\n\u001b[0;32m      5\u001b[0m '''\n\u001b[0;32m      6\u001b[0m \u001b[0mname\u001b[0m\u001b[1;33m=\u001b[0m\u001b[1;34m\"vaish\"\u001b[0m\u001b[1;33m\u001b[0m\u001b[1;33m\u001b[0m\u001b[0m\n\u001b[1;32m----> 7\u001b[1;33m \u001b[0mprint\u001b[0m\u001b[1;33m(\u001b[0m\u001b[0mname\u001b[0m\u001b[1;33m[\u001b[0m\u001b[1;36m0\u001b[0m\u001b[1;33m]\u001b[0m\u001b[1;33m,\u001b[0m\u001b[0mname\u001b[0m\u001b[1;33m[\u001b[0m\u001b[1;36m4\u001b[0m\u001b[1;33m]\u001b[0m\u001b[1;33m,\u001b[0m\u001b[0mname\u001b[0m\u001b[1;33m[\u001b[0m\u001b[1;36m5\u001b[0m\u001b[1;33m]\u001b[0m\u001b[1;33m)\u001b[0m\u001b[1;33m\u001b[0m\u001b[1;33m\u001b[0m\u001b[0m\n\u001b[0m",
      "\u001b[1;31mIndexError\u001b[0m: string index out of range"
     ]
    }
   ],
   "source": [
    "# Accesing character of string\n",
    "'''\n",
    "as string is LIKE sequence of character , \n",
    "sytax : name[0] will give the char at zeroth index\n",
    "'''\n",
    "name=\"vaish\"\n",
    "print(name[0],name[4])\n"
   ]
  },
  {
   "cell_type": "code",
   "execution_count": 18,
   "id": "334cd319",
   "metadata": {},
   "outputs": [
    {
     "name": "stdout",
     "output_type": "stream",
     "text": [
      "v\n",
      "a\n",
      "i\n",
      "s\n",
      "h\n",
      "n\n",
      "a\n",
      "v\n",
      "i\n"
     ]
    }
   ],
   "source": [
    "# looping through string\n",
    "'''\n",
    "syntax :\n",
    "for character in name:\n",
    "print(character)\n",
    "'''\n",
    "apple=\"vaishnavi\"\n",
    "\n",
    "for i in apple:\n",
    "    print(i)"
   ]
  },
  {
   "cell_type": "code",
   "execution_count": null,
   "id": "11401ffe",
   "metadata": {},
   "outputs": [],
   "source": []
  }
 ],
 "metadata": {
  "kernelspec": {
   "display_name": "Python 3 (ipykernel)",
   "language": "python",
   "name": "python3"
  },
  "language_info": {
   "codemirror_mode": {
    "name": "ipython",
    "version": 3
   },
   "file_extension": ".py",
   "mimetype": "text/x-python",
   "name": "python",
   "nbconvert_exporter": "python",
   "pygments_lexer": "ipython3",
   "version": "3.9.13"
  }
 },
 "nbformat": 4,
 "nbformat_minor": 5
}
