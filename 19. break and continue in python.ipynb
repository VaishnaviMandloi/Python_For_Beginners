{
 "cells": [
  {
   "cell_type": "code",
   "execution_count": 2,
   "id": "148dfb97",
   "metadata": {},
   "outputs": [
    {
     "name": "stdout",
     "output_type": "stream",
     "text": [
      "5 x 0 = 0\n",
      "5 x 1 = 5\n",
      "5 x 2 = 10\n",
      "5 x 3 = 15\n",
      "5 x 4 = 20\n",
      "5 x 5 = 25\n",
      "5 x 6 = 30\n",
      "5 x 7 = 35\n",
      "5 x 8 = 40\n",
      "5 x 9 = 45\n",
      "5 x 10 = 50\n",
      "break statement executed\n"
     ]
    }
   ],
   "source": [
    "# break and continue statenent\n",
    "\n",
    "# break : leave the loop, breaking out of the loop\n",
    "# continue : leave the iteration, skip the iteration\n",
    "\n",
    "for i in range(12):\n",
    "    if(i==11):\n",
    "        break\n",
    "    print('5 x',i,'=',5*i)\n",
    "    \n",
    "print('break statement executed')"
   ]
  },
  {
   "cell_type": "code",
   "execution_count": 5,
   "id": "880d3c61",
   "metadata": {},
   "outputs": [
    {
     "name": "stdout",
     "output_type": "stream",
     "text": [
      "enetr the class which have ground cleaning duty today : 6\n",
      "1 class go to your classroom\n",
      "2 class go to your classroom\n",
      "3 class go to your classroom\n",
      "4 class go to your classroom\n",
      "5 class go to your classroom\n",
      "7 class go to your classroom\n",
      "8 class go to your classroom\n",
      "9 class go to your classroom\n",
      "10 class go to your classroom\n",
      "11 class go to your classroom\n",
      "12 class go to your classroom\n",
      "class 6 start cleaning,loop ended\n"
     ]
    }
   ],
   "source": [
    "duty = int(input('enetr the class which have ground cleaning duty today : '))\n",
    "\n",
    "for i in range(12):\n",
    "    if(i==duty-1):\n",
    "        continue\n",
    "    print(i+1,'class go to your classroom')\n",
    "    \n",
    "print('class',duty,'start cleaning,loop ended')"
   ]
  },
  {
   "cell_type": "code",
   "execution_count": null,
   "id": "249f2984",
   "metadata": {},
   "outputs": [],
   "source": []
  }
 ],
 "metadata": {
  "kernelspec": {
   "display_name": "Python 3 (ipykernel)",
   "language": "python",
   "name": "python3"
  },
  "language_info": {
   "codemirror_mode": {
    "name": "ipython",
    "version": 3
   },
   "file_extension": ".py",
   "mimetype": "text/x-python",
   "name": "python",
   "nbconvert_exporter": "python",
   "pygments_lexer": "ipython3",
   "version": "3.9.13"
  }
 },
 "nbformat": 4,
 "nbformat_minor": 5
}
