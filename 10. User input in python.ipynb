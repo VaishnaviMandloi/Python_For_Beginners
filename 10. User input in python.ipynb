{
 "cells": [
  {
   "cell_type": "code",
   "execution_count": 2,
   "id": "52aa6d78",
   "metadata": {},
   "outputs": [
    {
     "name": "stdout",
     "output_type": "stream",
     "text": [
      "vaishnavi\n",
      "my name is vaishnavi\n"
     ]
    }
   ],
   "source": [
    "# syntax : variable = input()\n",
    "a = input()\n",
    "print(\"my name is\",a)"
   ]
  },
  {
   "cell_type": "code",
   "execution_count": 26,
   "id": "45abe3aa",
   "metadata": {},
   "outputs": [
    {
     "name": "stdout",
     "output_type": "stream",
     "text": [
      "enter 1st number : harry\n",
      "enter 2nd number : 4\n",
      "harry4\n"
     ]
    },
    {
     "ename": "ValueError",
     "evalue": "invalid literal for int() with base 10: 'harry'",
     "output_type": "error",
     "traceback": [
      "\u001b[1;31m---------------------------------------------------------------------------\u001b[0m",
      "\u001b[1;31mValueError\u001b[0m                                Traceback (most recent call last)",
      "\u001b[1;32m~\\AppData\\Local\\Temp\\ipykernel_51732\\2698617638.py\u001b[0m in \u001b[0;36m<module>\u001b[1;34m\u001b[0m\n\u001b[0;32m      2\u001b[0m \u001b[0my\u001b[0m \u001b[1;33m=\u001b[0m \u001b[0minput\u001b[0m\u001b[1;33m(\u001b[0m\u001b[1;34m\"enter 2nd number : \"\u001b[0m\u001b[1;33m)\u001b[0m\u001b[1;33m\u001b[0m\u001b[1;33m\u001b[0m\u001b[0m\n\u001b[0;32m      3\u001b[0m \u001b[0mprint\u001b[0m\u001b[1;33m(\u001b[0m\u001b[0mx\u001b[0m \u001b[1;33m+\u001b[0m \u001b[0my\u001b[0m\u001b[1;33m)\u001b[0m\u001b[1;33m\u001b[0m\u001b[1;33m\u001b[0m\u001b[0m\n\u001b[1;32m----> 4\u001b[1;33m \u001b[0mprint\u001b[0m\u001b[1;33m(\u001b[0m\u001b[0mint\u001b[0m\u001b[1;33m(\u001b[0m\u001b[0mx\u001b[0m\u001b[1;33m)\u001b[0m\u001b[1;33m+\u001b[0m\u001b[0mint\u001b[0m\u001b[1;33m(\u001b[0m\u001b[0my\u001b[0m\u001b[1;33m)\u001b[0m\u001b[1;33m)\u001b[0m\u001b[1;33m\u001b[0m\u001b[1;33m\u001b[0m\u001b[0m\n\u001b[0m",
      "\u001b[1;31mValueError\u001b[0m: invalid literal for int() with base 10: 'harry'"
     ]
    }
   ],
   "source": [
    "x = input(\"enter 1st number : \")\n",
    "y = input(\"enter 2nd number : \")\n",
    "print(x + y)\n",
    "print(int(x)+int(y))"
   ]
  },
  {
   "cell_type": "code",
   "execution_count": 34,
   "id": "cc739810",
   "metadata": {},
   "outputs": [
    {
     "name": "stdout",
     "output_type": "stream",
     "text": [
      "harryharryharryharry\n",
      "harryharryharryharry\n"
     ]
    }
   ],
   "source": [
    "y = int(y)\n",
    "#print(x+y)\n",
    "#print(x-y)\n",
    "#print(x*y)\n",
    "#print(x/y)\n",
    "#print(x//y)\n",
    "#print(x%y)\n",
    "\n",
    "#print(x+y)\n",
    "#print(x-y)\n",
    "print(x*y)\n",
    "print(y*x)\n",
    "#print(x/y)\n",
    "#print(x//y)\n",
    "#print(x%y)"
   ]
  },
  {
   "cell_type": "code",
   "execution_count": 4,
   "id": "ad6e1c26",
   "metadata": {},
   "outputs": [
    {
     "name": "stdout",
     "output_type": "stream",
     "text": [
      "enter 1st number : 1\n",
      "enter 2nd number : 2\n",
      "3\n"
     ]
    }
   ],
   "source": [
    "x = int(input(\"enter 1st number : \"))\n",
    "y = int(input(\"enter 2nd number : \"))\n",
    "print(x + y)"
   ]
  },
  {
   "cell_type": "code",
   "execution_count": null,
   "id": "d4bed8b5",
   "metadata": {},
   "outputs": [],
   "source": []
  }
 ],
 "metadata": {
  "kernelspec": {
   "display_name": "Python 3 (ipykernel)",
   "language": "python",
   "name": "python3"
  },
  "language_info": {
   "codemirror_mode": {
    "name": "ipython",
    "version": 3
   },
   "file_extension": ".py",
   "mimetype": "text/x-python",
   "name": "python",
   "nbconvert_exporter": "python",
   "pygments_lexer": "ipython3",
   "version": "3.9.13"
  }
 },
 "nbformat": 4,
 "nbformat_minor": 5
}
