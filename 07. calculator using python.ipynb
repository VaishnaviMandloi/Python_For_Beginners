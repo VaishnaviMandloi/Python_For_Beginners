{
 "cells": [
  {
   "cell_type": "code",
   "execution_count": null,
   "id": "610ced9f",
   "metadata": {},
   "outputs": [],
   "source": [
    "'''\n",
    "operators\n",
    "+ : addition\n",
    "- : substraction\n",
    "* : multiplication\n",
    "/ : division\n",
    "% : modulus\n",
    "// : floor dividion\n",
    "** : exponential\n",
    "'''\n",
    "a = 15\n",
    "b=6\n",
    "print(a+b,a-b,a*b,a/b,a%b,a//b,2**3)"
   ]
  },
  {
   "cell_type": "code",
   "execution_count": null,
   "id": "494fadc6",
   "metadata": {},
   "outputs": [],
   "source": []
  },
  {
   "cell_type": "code",
   "execution_count": null,
   "id": "40e495fc",
   "metadata": {},
   "outputs": [],
   "source": [
    "print(8)"
   ]
  },
  {
   "cell_type": "code",
   "execution_count": null,
   "id": "b546db7e",
   "metadata": {},
   "outputs": [],
   "source": []
  }
 ],
 "metadata": {
  "kernelspec": {
   "display_name": "Python 3 (ipykernel)",
   "language": "python",
   "name": "python3"
  },
  "language_info": {
   "codemirror_mode": {
    "name": "ipython",
    "version": 3
   },
   "file_extension": ".py",
   "mimetype": "text/x-python",
   "name": "python",
   "nbconvert_exporter": "python",
   "pygments_lexer": "ipython3",
   "version": "3.9.13"
  }
 },
 "nbformat": 4,
 "nbformat_minor": 5
}
