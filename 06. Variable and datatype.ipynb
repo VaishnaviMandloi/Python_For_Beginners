{
 "cells": [
  {
   "cell_type": "code",
   "execution_count": 23,
   "id": "e807121f",
   "metadata": {},
   "outputs": [
    {
     "name": "stdout",
     "output_type": "stream",
     "text": [
      "1\n",
      "harry\n",
      "9\n",
      "True\n",
      "None\n",
      "the type of a is  <class 'int'>\n",
      "the type of a is  <class 'str'>\n",
      "the type of a is  <class 'NoneType'>\n",
      "the type of a is  <class 'bool'>\n",
      "the type of a is  <class 'float'>\n",
      "the type of a is  <class 'complex'>\n"
     ]
    }
   ],
   "source": [
    "# Variavles\n",
    "a =1\n",
    "print(a)\n",
    "b=\"harry\"\n",
    "haRRY =9\n",
    "c=haRRY\n",
    "print(b)\n",
    "print(c)\n",
    "d = True\n",
    "print(d)\n",
    "c = None # in python None = NULL\n",
    "print(c)\n",
    "print(\"the type of a is \", type(a))\n",
    "print(\"the type of a is \", type(b))\n",
    "print(\"the type of a is \", type(c))\n",
    "print(\"the type of a is \", type(d))\n",
    "e = 8.8\n",
    "f = complex(0,0)\n",
    "print(\"the type of a is \", type(e))\n",
    "print(\"the type of a is \", type(f))\n",
    "# in python eveything is object , therefore integer is a object of int class"
   ]
  },
  {
   "cell_type": "code",
   "execution_count": 13,
   "id": "853d2fd1",
   "metadata": {},
   "outputs": [
    {
     "name": "stdout",
     "output_type": "stream",
     "text": [
      "4\n"
     ]
    }
   ],
   "source": [
    "a = 1\n",
    "a1 = 3\n",
    "print(a+a1)"
   ]
  },
  {
   "cell_type": "code",
   "execution_count": 21,
   "id": "897e093a",
   "metadata": {},
   "outputs": [
    {
     "name": "stdout",
     "output_type": "stream",
     "text": [
      "[2, 4.5, [-4, 5], ['apple', 'banana']]\n",
      "(2, 4.5, (-4, 5), ('apple', 'banana'))\n"
     ]
    }
   ],
   "source": [
    "# sequence data : list and tuple\n",
    "# list : ordered collection of data with elements separated by comma and enclosed within square brackets. Are mutable & and can be modified after creation\n",
    "list1 = [2,4.5,[-4,5],[\"apple\" ,\"banana\"]]\n",
    "print(list1)\n",
    "\n",
    "# tuple : ordered collection of data, separated by comma and enclosed within parenthesis , but are immutable and cannot be modified after creation.\n",
    "tuple1 = (2,4.5,(-4,5),(\"apple\" ,\"banana\"))\n",
    "print(tuple1)"
   ]
  },
  {
   "cell_type": "code",
   "execution_count": 22,
   "id": "6889f1c8",
   "metadata": {},
   "outputs": [
    {
     "name": "stdout",
     "output_type": "stream",
     "text": [
      "{'name': 'sakshi', 'age': 34, 'canVote': True}\n"
     ]
    }
   ],
   "source": [
    "# mapped data : dictionary (dict)\n",
    "# dict : a dictionary is an unordered collection of data containing a key:value pairs are enclosed with curly brackets\n",
    "dict1 = {\"name\":\"sakshi\",\"age\":34,\"canVote\":True}\n",
    "print(dict1)"
   ]
  },
  {
   "cell_type": "code",
   "execution_count": null,
   "id": "a4fd81f9",
   "metadata": {},
   "outputs": [],
   "source": []
  }
 ],
 "metadata": {
  "kernelspec": {
   "display_name": "Python 3 (ipykernel)",
   "language": "python",
   "name": "python3"
  },
  "language_info": {
   "codemirror_mode": {
    "name": "ipython",
    "version": 3
   },
   "file_extension": ".py",
   "mimetype": "text/x-python",
   "name": "python",
   "nbconvert_exporter": "python",
   "pygments_lexer": "ipython3",
   "version": "3.9.13"
  }
 },
 "nbformat": 4,
 "nbformat_minor": 5
}
