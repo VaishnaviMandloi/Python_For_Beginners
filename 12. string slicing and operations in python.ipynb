{
 "cells": [
  {
   "cell_type": "code",
   "execution_count": 9,
   "id": "e5d3a5c6",
   "metadata": {},
   "outputs": [
    {
     "name": "stdout",
     "output_type": "stream",
     "text": [
      "harra harra harray,vaish\n",
      "12 ais ais\n"
     ]
    }
   ],
   "source": [
    "names = \"harray,vaish\"\n",
    "print(names[0:5],names[:5],names[:])\n",
    "# \"string[-4:-1]\" is equivalent to \"string[len(string)-4:len(string)-1]\"\n",
    "# start the count from backward for minus\n",
    "print(len(names),names[-4:-1],names[len(names)-4:-1])"
   ]
  },
  {
   "cell_type": "code",
   "execution_count": 2,
   "id": "bed45717",
   "metadata": {},
   "outputs": [
    {
     "name": "stdout",
     "output_type": "stream",
     "text": [
      "6\n"
     ]
    }
   ],
   "source": [
    "# len() : used to find the length of a string\n",
    "name=\"naikgo\"\n",
    "print(len(name))"
   ]
  },
  {
   "cell_type": "code",
   "execution_count": 10,
   "id": "5892d141",
   "metadata": {},
   "outputs": [
    {
     "name": "stdout",
     "output_type": "stream",
     "text": [
      "ar\n"
     ]
    }
   ],
   "source": [
    "# excercise\n",
    "nm =\"harry\"\n",
    "print(nm[-4:-2])\n",
    "# ans : ar"
   ]
  },
  {
   "cell_type": "code",
   "execution_count": null,
   "id": "ccbb1f26",
   "metadata": {},
   "outputs": [],
   "source": []
  }
 ],
 "metadata": {
  "kernelspec": {
   "display_name": "Python 3 (ipykernel)",
   "language": "python",
   "name": "python3"
  },
  "language_info": {
   "codemirror_mode": {
    "name": "ipython",
    "version": 3
   },
   "file_extension": ".py",
   "mimetype": "text/x-python",
   "name": "python",
   "nbconvert_exporter": "python",
   "pygments_lexer": "ipython3",
   "version": "3.9.13"
  }
 },
 "nbformat": 4,
 "nbformat_minor": 5
}
