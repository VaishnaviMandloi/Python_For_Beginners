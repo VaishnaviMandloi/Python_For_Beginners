{
 "cells": [
  {
   "cell_type": "code",
   "execution_count": 3,
   "id": "33095c32",
   "metadata": {},
   "outputs": [
    {
     "name": "stdout",
     "output_type": "stream",
     "text": [
      "            Twinkle, twinkle, little star,\n",
      "            How I wonder what you are!\n",
      "            Up above the world so high,\n",
      "            Like a diamond in the sky.\n",
      "\n",
      "            When the blazing sun is gone,\n",
      "            When he nothing shines upon,\n",
      "            Then you show your little light,\n",
      "            Twinkle, twinkle, all the night.\n",
      "\n",
      "            Then the traveler in the dark\n",
      "            Thanks you for your tiny spark,\n",
      "            How could he see where to go,\n",
      "            If you did not twinkle so?\n",
      "\n",
      "            In the dark blue sky you keep,\n",
      "            Often through my curtains peep\n",
      "            For you never shut your eye,\n",
      "            Till the sun is in the sky.\n",
      "\n",
      "            As your bright and tiny spark\n",
      "            Lights the traveler in the dark,\n",
      "            Though I know not what you are,\n",
      "            Twinkle, twinkle, little star.\n"
     ]
    }
   ],
   "source": [
    "# Q1 program to print twinkle twinkle litle star\n",
    "\n",
    "poem = '''            Twinkle, twinkle, little star,\n",
    "            How I wonder what you are!\n",
    "            Up above the world so high,\n",
    "            Like a diamond in the sky.\n",
    "\n",
    "            When the blazing sun is gone,\n",
    "            When he nothing shines upon,\n",
    "            Then you show your little light,\n",
    "            Twinkle, twinkle, all the night.\n",
    "\n",
    "            Then the traveler in the dark\n",
    "            Thanks you for your tiny spark,\n",
    "            How could he see where to go,\n",
    "            If you did not twinkle so?\n",
    "\n",
    "            In the dark blue sky you keep,\n",
    "            Often through my curtains peep\n",
    "            For you never shut your eye,\n",
    "            Till the sun is in the sky.\n",
    "\n",
    "            As your bright and tiny spark\n",
    "            Lights the traveler in the dark,\n",
    "            Though I know not what you are,\n",
    "            Twinkle, twinkle, little star.'''\n",
    "        \n",
    "print(poem)"
   ]
  },
  {
   "cell_type": "code",
   "execution_count": 26,
   "id": "1d4d3abf",
   "metadata": {},
   "outputs": [
    {
     "name": "stdout",
     "output_type": "stream",
     "text": [
      "            Twinkle, twinkle, little star,\n",
      "            How I wonder what you are!\n",
      "            Up above the world so high,\n",
      "            Like a diamond in the sky.\n",
      "\n",
      "            When the blazing sun is gone,\n",
      "            When he nothing shines upon,\n",
      "            Then you show your little light,\n",
      "            Twinkle, twinkle, all the night.\n",
      "\n",
      "            Then the traveler in the dark\n",
      "            Thanks you for your tiny spark,\n",
      "            How could he see where to go,\n",
      "            If you did not twinkle so?\n",
      "\n",
      "            In the dark blue sky you keep,\n",
      "            Often through my curtains peep\n",
      "            For you never shut your eye,\n",
      "            Till the sun is in the sky.\n",
      "\n",
      "            As your bright and tiny spark\n",
      "            Lights the traveler in the dark,\n",
      "            Though I know not what you are,\n",
      "            Twinkle, twinkle, little star. <class 'str'>\n"
     ]
    }
   ],
   "source": [
    "        \n",
    "print(poem,type(poem))"
   ]
  },
  {
   "cell_type": "code",
   "execution_count": 8,
   "id": "65fc594b",
   "metadata": {},
   "outputs": [
    {
     "name": "stdout",
     "output_type": "stream",
     "text": [
      "Table of five : \n",
      "5 X  1  =  5\n",
      "5 X  2  =  10\n",
      "5 X  3  =  15\n",
      "5 X  4  =  20\n",
      "5 X  5  =  25\n",
      "5 X  6  =  30\n",
      "5 X  7  =  35\n",
      "5 X  8  =  40\n",
      "5 X  9  =  45\n",
      "5 X  10  =  50\n"
     ]
    }
   ],
   "source": [
    "# Q2 Print table of 5\n",
    "print(\"Table of five : \")\n",
    "\n",
    "for i in range(1,11):\n",
    "    print(\"5 X \",i,\" = \",5*i)"
   ]
  },
  {
   "cell_type": "code",
   "execution_count": null,
   "id": "1fe97e2f",
   "metadata": {},
   "outputs": [],
   "source": [
    "# Q3 install an external module"
   ]
  },
  {
   "cell_type": "code",
   "execution_count": 24,
   "id": "c5eb4496",
   "metadata": {},
   "outputs": [
    {
     "name": "stdout",
     "output_type": "stream",
     "text": [
      "01 chapter 1 practice set.ipynb\n",
      "03. module.ipynb\n",
      "04. first program.ipynb\n",
      "05. comment, Escape sequence, Print statement.ipynb\n",
      "06. Variable and datatype.ipynb\n",
      "07. calculator using python.ipynb\n",
      "08.Exercise.ipynb\n",
      "09 . Typecasting.ipynb\n",
      "10. User input in python.ipynb\n",
      "11. String in python.ipynb\n",
      "12. string slicing and operations in python.ipynb\n",
      "13. string methods in python.ipynb\n",
      "14 . if else condition statements in python.ipynb\n",
      "15. exercise 2.ipynb\n",
      "16. Match case system in python.ipynb\n",
      "17. For loops in python.ipynb\n",
      "18. while loops in python.ipynb\n",
      "19. break and continue in python.ipynb\n",
      "20. Functions in python.ipynb\n",
      "21. Function Arguments in python.ipynb\n",
      "01 chapter 1 practice set-checkpoint.ipynb\n",
      "03. module-checkpoint.ipynb\n",
      "04. first program-checkpoint.ipynb\n",
      "05. comment, Escape sequence, Print statement-checkpoint.ipynb\n",
      "06. Variable and datatype-checkpoint.ipynb\n",
      "07. calculator using python-checkpoint.ipynb\n",
      "08.Exercise-checkpoint.ipynb\n",
      "09 . Typecasting-checkpoint.ipynb\n",
      "10. User input in python-checkpoint.ipynb\n",
      "11. String in python-checkpoint.ipynb\n",
      "12. string slicing and operations in python-checkpoint.ipynb\n",
      "13. string methods in python-checkpoint.ipynb\n",
      "14 . if else condition statements in python-checkpoint.ipynb\n",
      "15. exercise 2-checkpoint.ipynb\n",
      "16. Match case system in python-checkpoint.ipynb\n",
      "17. For loops in python-checkpoint.ipynb\n",
      "18. while loops in python-checkpoint.ipynb\n",
      "19. break and continue in python-checkpoint.ipynb\n",
      "20. Functions in python-checkpoint.ipynb\n",
      "21. Function Arguments in python-checkpoint.ipynb\n"
     ]
    }
   ],
   "source": [
    "# Q4 print the content of directory using OS module \n",
    "# importing dependencies, here os module we have to install\n",
    "import os\n",
    "\n",
    "# running a nested for loop to print all files present in the Python CodeWithHarry directory\n",
    "for (root, dirs, file) in os.walk(\"C:/Users/VAISHNAVI MANDLOI/Python CodeWithHarry\"):\n",
    "    for f in file:\n",
    "        print(f)"
   ]
  },
  {
   "cell_type": "code",
   "execution_count": null,
   "id": "e2e88f34",
   "metadata": {},
   "outputs": [],
   "source": [
    "# Q5 label the program in q4 with comment"
   ]
  }
 ],
 "metadata": {
  "kernelspec": {
   "display_name": "Python 3 (ipykernel)",
   "language": "python",
   "name": "python3"
  },
  "language_info": {
   "codemirror_mode": {
    "name": "ipython",
    "version": 3
   },
   "file_extension": ".py",
   "mimetype": "text/x-python",
   "name": "python",
   "nbconvert_exporter": "python",
   "pygments_lexer": "ipython3",
   "version": "3.9.13"
  }
 },
 "nbformat": 4,
 "nbformat_minor": 5
}
