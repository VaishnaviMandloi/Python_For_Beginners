{
 "cells": [
  {
   "cell_type": "code",
   "execution_count": 2,
   "id": "5896e8ee",
   "metadata": {},
   "outputs": [
    {
     "data": {
      "text/plain": [
       "'\\nboth\\ntriple \\nsingle quotes\\nor\\ndouble quotes\\ncan be use for multiline comment\\n'"
      ]
     },
     "execution_count": 2,
     "metadata": {},
     "output_type": "execute_result"
    }
   ],
   "source": [
    "# single line comment\n",
    "'''multiline \n",
    "comment'''\n",
    "\"\"\"\n",
    "both\n",
    "triple \n",
    "single quotes\n",
    "or\n",
    "double quotes\n",
    "can be use for multiline comment\n",
    "\"\"\""
   ]
  },
  {
   "cell_type": "code",
   "execution_count": 3,
   "id": "0587d5d3",
   "metadata": {},
   "outputs": [],
   "source": [
    "# the output is like that because it is taking triple double quote as a string as written in doulbe quotes , and in the string the statement is quoted"
   ]
  },
  {
   "cell_type": "code",
   "execution_count": 32,
   "id": "7d14bd8f",
   "metadata": {},
   "outputs": [
    {
     "name": "stdout",
     "output_type": "stream",
     "text": [
      "hey 6 56\n",
      "hey~6~56\n",
      "\n",
      "hey~6~56009new commandanother new command\n"
     ]
    }
   ],
   "source": [
    "#print function argument : objects , sep , end , file\n",
    "print(\"hey\",6,7*8) \n",
    "# it can take multiple objects\n",
    "# 1. object : any object wuill be converted to string before  printed\n",
    "print(\"hey\",6,7*8, sep=\"~\")\n",
    "# sep in python used as a seprater that seprate every object given in the seprater by the provided symbol , default separater is space.\n",
    "print()\n",
    "print(\"hey\",6,7*8, sep=\"~\", end=\"009\")\n",
    "print(\"new command\",end=\"\")\n",
    "'''end in python is used for specifing with what the statement will end , in deafult it end with new line \n",
    "In the above example the default is overwrited'''\n",
    "\n",
    "print(\"another new command\")\n",
    "# file : an object with a write method , default is sys.stdout\n",
    "# parameters 2 to 4 are optional"
   ]
  },
  {
   "cell_type": "code",
   "execution_count": null,
   "id": "35baa745",
   "metadata": {},
   "outputs": [],
   "source": []
  }
 ],
 "metadata": {
  "kernelspec": {
   "display_name": "Python 3 (ipykernel)",
   "language": "python",
   "name": "python3"
  },
  "language_info": {
   "codemirror_mode": {
    "name": "ipython",
    "version": 3
   },
   "file_extension": ".py",
   "mimetype": "text/x-python",
   "name": "python",
   "nbconvert_exporter": "python",
   "pygments_lexer": "ipython3",
   "version": "3.9.13"
  }
 },
 "nbformat": 4,
 "nbformat_minor": 5
}
