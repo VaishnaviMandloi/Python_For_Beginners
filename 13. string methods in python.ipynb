{
 "cells": [
  {
   "cell_type": "code",
   "execution_count": 20,
   "id": "c7f0c8ea",
   "metadata": {
    "scrolled": false
   },
   "outputs": [
    {
     "name": "stdout",
     "output_type": "stream",
     "text": [
      "HARRY Harry\n",
      "harry Harry\n",
      "Hello I am Vaishnavi   !!,  Hello I am Vaishnavi   !!    \n",
      "! He!!o ,! He!!o !!!!\n",
      "! He!!,! He!!oooooooo\n",
      "vaishno,Ro, vaishnavi,Ravi,\n",
      "['apple', 'mango', 'strawberry', 'banana', 'lichi'] apple mango strawberry banana lichi\n"
     ]
    }
   ],
   "source": [
    "# string methods: pyhton provide a set of built in methods that we can use to alter and modify thr string\n",
    "# strings are immutable\n",
    "a =\"Harry\"\n",
    "\n",
    "# upper() : converts a string into upper case\n",
    "print(a.upper(),a) # as string are immutable , hence a new cpy of a is made here\n",
    "\n",
    "# lower() : converts a string to lower case\n",
    "print(a.lower(),a)\n",
    "\n",
    "#strip() : remove any whitespace before and after the string\n",
    "b = \"  Hello I am Vaishnavi   !!    \"\n",
    "print(b.strip(),b,sep=',')\n",
    "\n",
    "# rstrip() : remove any trailing characters\n",
    "c = \"! He!!o !!!!\"\n",
    "print(c.rstrip(\"!\"),c,sep=',')\n",
    "d = \"! He!!oooooooo\"\n",
    "print(d.rstrip(\"o\"),d,sep=',')\n",
    "\n",
    "# replace() : replace all occurences of a string with another string\n",
    "str = \"vaishnavi,Ravi,\"\n",
    "print(str.replace(\"avi\",\"o\"),str)\n",
    "\n",
    "# split() : splits the given string at the specific instance and returns the separated strings as lit items.\n",
    "fruit = \"apple mango strawberry banana lichi\"\n",
    "print(fruit.split(\" \"),fruit)"
   ]
  },
  {
   "cell_type": "code",
   "execution_count": 23,
   "id": "e0385be2",
   "metadata": {},
   "outputs": [
    {
     "name": "stdout",
     "output_type": "stream",
     "text": [
      "Hi i am vaishnavi\n",
      "Introduction to js\n"
     ]
    }
   ],
   "source": [
    "# capitalize() : it truns the first character of string to uppercase and the rest other charcter of the string to uppercase and the rest other character of the string are turned to lowercase, the string has no effect if the first character is already uppercase\n",
    "sentence = \"HI I am VaishNavi\"\n",
    "print(sentence.capitalize())\n",
    "blogHeading =\"intrOduction to js\"\n",
    "print(blogHeading.capitalize())\n"
   ]
  },
  {
   "cell_type": "code",
   "execution_count": 30,
   "id": "868fbe7c",
   "metadata": {},
   "outputs": [
    {
     "name": "stdout",
     "output_type": "stream",
     "text": [
      "20 welcome to console!!\n",
      "55                   welcome to console!!                 \n",
      "50                welcome to console!!               \n"
     ]
    }
   ],
   "source": [
    "# center() : align the string to the center as per the parameters given by the user,\n",
    "str1 = \"welcome to console!!\"\n",
    "print(len(str1),str1)\n",
    "print(len(str1.center(55)),str1.center(55))\n",
    "print(len(str1.center(50)),str1.center(50))\n",
    "# it add whitespace = string length - passed parameter length"
   ]
  },
  {
   "cell_type": "code",
   "execution_count": 33,
   "id": "424ea128",
   "metadata": {},
   "outputs": [
    {
     "name": "stdout",
     "output_type": "stream",
     "text": [
      "6\n"
     ]
    }
   ],
   "source": [
    "# count() : number of times given value has occured within given string\n",
    "children=\"ram,sham,das,ram,sham,ram,sita,ram,gita,radha,ram,shiv,ram,parvati,rekha\"\n",
    "print(children.count(\"ram\"))"
   ]
  },
  {
   "cell_type": "code",
   "execution_count": 39,
   "id": "ceb85aac",
   "metadata": {},
   "outputs": [
    {
     "name": "stdout",
     "output_type": "stream",
     "text": [
      "True False\n",
      "False\n"
     ]
    }
   ],
   "source": [
    "# endswith() : chechs if the string endswith a given value. if yes return true ,else retuen false\n",
    "she =\"work is done \"\n",
    "he =\"work is done.\"\n",
    "print(she.endswith(\"done \"),he.endswith(\"done\"))\n",
    "\n",
    "# we can also check for a value in-between the string by providing start and end index position.\n",
    "print(she.endswith(\"work\",0,4)) # not include 4"
   ]
  },
  {
   "cell_type": "code",
   "execution_count": 6,
   "id": "bb87479f",
   "metadata": {},
   "outputs": [
    {
     "name": "stdout",
     "output_type": "stream",
     "text": [
      "9\n",
      "-1\n",
      "9\n"
     ]
    },
    {
     "ename": "ValueError",
     "evalue": "substring not found",
     "output_type": "error",
     "traceback": [
      "\u001b[1;31m---------------------------------------------------------------------------\u001b[0m",
      "\u001b[1;31mValueError\u001b[0m                                Traceback (most recent call last)",
      "\u001b[1;32m~\\AppData\\Local\\Temp\\ipykernel_24980\\3518011225.py\u001b[0m in \u001b[0;36m<module>\u001b[1;34m\u001b[0m\n\u001b[0;32m      6\u001b[0m \u001b[1;31m# index() : searches for the first occurences of the given value and returns the index where its present. If given value is absent from the string then raise an exception.\u001b[0m\u001b[1;33m\u001b[0m\u001b[1;33m\u001b[0m\u001b[0m\n\u001b[0;32m      7\u001b[0m \u001b[0mprint\u001b[0m\u001b[1;33m(\u001b[0m\u001b[0mpuzzle\u001b[0m\u001b[1;33m.\u001b[0m\u001b[0mindex\u001b[0m\u001b[1;33m(\u001b[0m\u001b[1;34m\"index\"\u001b[0m\u001b[1;33m)\u001b[0m\u001b[1;33m)\u001b[0m\u001b[1;33m\u001b[0m\u001b[1;33m\u001b[0m\u001b[0m\n\u001b[1;32m----> 8\u001b[1;33m \u001b[0mprint\u001b[0m\u001b[1;33m(\u001b[0m\u001b[0mpuzzle\u001b[0m\u001b[1;33m.\u001b[0m\u001b[0mindex\u001b[0m\u001b[1;33m(\u001b[0m\u001b[1;34m\"not\"\u001b[0m\u001b[1;33m)\u001b[0m\u001b[1;33m)\u001b[0m\u001b[1;33m\u001b[0m\u001b[1;33m\u001b[0m\u001b[0m\n\u001b[0m",
      "\u001b[1;31mValueError\u001b[0m: substring not found"
     ]
    }
   ],
   "source": [
    "# find() : searches for the first occurences of the given value and returns the index where its present. If given value is absent from the string then return -1.\n",
    "puzzle =\"find the index of first occurence of index word\"\n",
    "print(puzzle.find(\"index\"))\n",
    "print(puzzle.find(\"not\"))\n",
    "\n",
    "# index() : searches for the first occurences of the given value and returns the index where its present. If given value is absent from the string then raise an exception.\n",
    "print(puzzle.index(\"index\"))\n",
    "# print(puzzle.index(\"not\")) ValueError substring not found"
   ]
  },
  {
   "cell_type": "code",
   "execution_count": 12,
   "id": "e2aacf8c",
   "metadata": {},
   "outputs": [
    {
     "name": "stdout",
     "output_type": "stream",
     "text": [
      "True False\n",
      "False True\n"
     ]
    }
   ],
   "source": [
    "# isalnum() : retuens true only if the entire string only consists of A-Z,a-z,0-9. If any other charcters or punctuation are present , then it returns false\n",
    "# to check is string is alpha-numeric or not\n",
    "check= \"welcometotheConsole4\"\n",
    "check2 =\"hi \"\n",
    "print(check.isalnum(),check2.isalnum())\n",
    "\n",
    "# isalpha() :  retuens true only if the entire string only consists of A-Z,a-z. If any other charcters or punctuation or numbers(0-9) are present , then it returns false\n",
    "# to check is string is alpha or not.\n",
    "check3 =\"hello\"\n",
    "print(check.isalpha(),check3.isalpha())"
   ]
  },
  {
   "cell_type": "code",
   "execution_count": 13,
   "id": "ff6ab82c",
   "metadata": {},
   "outputs": [
    {
     "name": "stdout",
     "output_type": "stream",
     "text": [
      "True False\n"
     ]
    }
   ],
   "source": [
    "# islower() : returns True if allthe chactersw in the string are lower case ,else return false\n",
    "type =\"adgsfdjuh\"\n",
    "type2 =\"guyAsdgg\"\n",
    "print(type.islower(),type2.islower())"
   ]
  },
  {
   "cell_type": "code",
   "execution_count": 15,
   "id": "1136889e",
   "metadata": {},
   "outputs": [
    {
     "name": "stdout",
     "output_type": "stream",
     "text": [
      "True False\n"
     ]
    }
   ],
   "source": [
    "# isprintable() : returns True if all values in the given string are printable , if not , then return fals4.\n",
    "print1 =\"hi I am vaishnavi\"\n",
    "print2 =\"hi\\nIam vaishnavi\"\n",
    "print(print1.isprintable(), print2.isprintable())"
   ]
  },
  {
   "cell_type": "code",
   "execution_count": 16,
   "id": "f2ed67bf",
   "metadata": {},
   "outputs": [
    {
     "name": "stdout",
     "output_type": "stream",
     "text": [
      "True False\n"
     ]
    }
   ],
   "source": [
    "#isspace() : returns True only if the string cointains white spaces , else return false.\n",
    "string1 =\"     \"\n",
    "string2 =\"f  h\"\n",
    "print(string1.isspace(),string2.isspace())"
   ]
  },
  {
   "cell_type": "code",
   "execution_count": 19,
   "id": "61949d0b",
   "metadata": {},
   "outputs": [
    {
     "name": "stdout",
     "output_type": "stream",
     "text": [
      "True False\n"
     ]
    }
   ],
   "source": [
    "# istitle() : returns True only if the first letter of each word of the string is capatialized, else return False\n",
    "Title =\"This Is My Book!!\"\n",
    "Title2 =\" Hi This is the second edition of My Book\"\n",
    "print(Title.istitle() , Title2.istitle())"
   ]
  },
  {
   "cell_type": "code",
   "execution_count": 21,
   "id": "43647831",
   "metadata": {},
   "outputs": [
    {
     "name": "stdout",
     "output_type": "stream",
     "text": [
      "True False\n"
     ]
    }
   ],
   "source": [
    "# isupper() : retrun True if all chracter in the string is upper case, else return False.\n",
    "str1 = \"ITS CHECKS UPPERCASE\"\n",
    "str2 = \"ADSFG hgffADv\"\n",
    "print(str1.isupper(),str2.isupper())"
   ]
  },
  {
   "cell_type": "code",
   "execution_count": 23,
   "id": "e6ae0b99",
   "metadata": {},
   "outputs": [
    {
     "name": "stdout",
     "output_type": "stream",
     "text": [
      "True False\n"
     ]
    }
   ],
   "source": [
    "# startswith() : checks if the string starts with a given value, if yes then return True ,else False\n",
    "str3 ='hi , how are you'\n",
    "print(str3.startswith(\"hi\"),str3.startswith(\"you\"))"
   ]
  },
  {
   "cell_type": "code",
   "execution_count": 24,
   "id": "c4a1e683",
   "metadata": {},
   "outputs": [
    {
     "name": "stdout",
     "output_type": "stream",
     "text": [
      "uppercase,LOWERCASE\n"
     ]
    }
   ],
   "source": [
    "# swapcase() : changs the character casing of the string , changes uppercase->lower and lowercase->upper.\n",
    "str1 =\"UPPERCASE,lowercase\"\n",
    "print(str1.swapcase())"
   ]
  },
  {
   "cell_type": "code",
   "execution_count": 26,
   "id": "c4c8aceb",
   "metadata": {},
   "outputs": [
    {
     "name": "stdout",
     "output_type": "stream",
     "text": [
      " The Horse And The Hill\n"
     ]
    }
   ],
   "source": [
    "# title() : capitalize each letter of word within the string\n",
    "str1 =\" the hoRse and the hill\"\n",
    "print(str1.title())"
   ]
  },
  {
   "cell_type": "code",
   "execution_count": null,
   "id": "932741bb",
   "metadata": {},
   "outputs": [],
   "source": []
  }
 ],
 "metadata": {
  "kernelspec": {
   "display_name": "Python 3 (ipykernel)",
   "language": "python",
   "name": "python3"
  },
  "language_info": {
   "codemirror_mode": {
    "name": "ipython",
    "version": 3
   },
   "file_extension": ".py",
   "mimetype": "text/x-python",
   "name": "python",
   "nbconvert_exporter": "python",
   "pygments_lexer": "ipython3",
   "version": "3.9.13"
  }
 },
 "nbformat": 4,
 "nbformat_minor": 5
}
