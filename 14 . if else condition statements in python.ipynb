{
 "cells": [
  {
   "cell_type": "code",
   "execution_count": 7,
   "id": "55806c05",
   "metadata": {},
   "outputs": [
    {
     "name": "stdout",
     "output_type": "stream",
     "text": [
      "enter your age : 13\n",
      "your age is 13\n",
      "you cannot drive\n",
      "False\n",
      "True\n",
      "True\n",
      "False\n"
     ]
    }
   ],
   "source": [
    "# if\n",
    "# if-else\n",
    "# if-else-eli\n",
    "# nested if-else-elif\n",
    "\n",
    "a = int(input(\"enter your age : \"))\n",
    "print(\"your age is\",a)\n",
    "\n",
    "if(a>=18):\n",
    "    print(\"you can drive\") # the space is indentation\n",
    "else:\n",
    "    print(\"you cannot drive\")\n",
    "    \n",
    "# conditional operators : \n",
    "print(a>18)\n",
    "print(a<18)\n",
    "print(a!=18)\n",
    "print(a==18)"
   ]
  },
  {
   "cell_type": "code",
   "execution_count": null,
   "id": "6b5699e5",
   "metadata": {},
   "outputs": [],
   "source": [
    "applePrice = int(input(\"enter the price of apple\"))\n",
    "money = 200\n",
    "\n",
    "if((money-applePrice)>70):\n",
    "    print(\"buy 1 kg apple\")\n",
    "    money=money-applePrice\n",
    "elif((money-applePrice)>20):\n",
    "    print(\"buy 1/2 kg apple\")\n",
    "    money=money-applePrice*1/2\n",
    "else:\n",
    "    print(\"do not buy apple\")\n",
    "\n",
    "print(\"money left :\",money)"
   ]
  },
  {
   "cell_type": "code",
   "execution_count": null,
   "id": "4208f66a",
   "metadata": {},
   "outputs": [],
   "source": [
    "num = int(input(\"enter a number : \"))\n",
    "\n",
    "if (num<0):\n",
    "    print(\"the entered number is negative.\")\n",
    "elif (num>0):\n",
    "    if(num<= 10):\n",
    "        print(\"number is between 1-10\")\n",
    "    elif(num>10 and num<20):\n",
    "        print(\"number is between 10-20\")\n",
    "    else:\n",
    "        print(\"number is greater than 20\")\n",
    "else:\n",
    "    print(\"number is zero\")"
   ]
  },
  {
   "cell_type": "code",
   "execution_count": null,
   "id": "b6594fcb",
   "metadata": {},
   "outputs": [],
   "source": []
  }
 ],
 "metadata": {
  "kernelspec": {
   "display_name": "Python 3 (ipykernel)",
   "language": "python",
   "name": "python3"
  },
  "language_info": {
   "codemirror_mode": {
    "name": "ipython",
    "version": 3
   },
   "file_extension": ".py",
   "mimetype": "text/x-python",
   "name": "python",
   "nbconvert_exporter": "python",
   "pygments_lexer": "ipython3",
   "version": "3.9.13"
  }
 },
 "nbformat": 4,
 "nbformat_minor": 5
}
