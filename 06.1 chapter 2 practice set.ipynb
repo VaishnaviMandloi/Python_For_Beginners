{
 "cells": [
  {
   "cell_type": "code",
   "execution_count": 5,
   "id": "72fecd45",
   "metadata": {},
   "outputs": [
    {
     "name": "stdout",
     "output_type": "stream",
     "text": [
      "enter the first number : -3\n",
      "enter the second number : 6\n",
      "The sum of two numbers are :  3\n"
     ]
    }
   ],
   "source": [
    "#Q1 Write a program to add two numbers\n",
    "\n",
    "a = int(input(\"enter the first number : \"))\n",
    "b = int(input(\"enter the second number : \"))\n",
    "\n",
    "print(\"The sum of two numbers are : \", (a+b))"
   ]
  },
  {
   "cell_type": "code",
   "execution_count": 12,
   "id": "be55d611",
   "metadata": {},
   "outputs": [
    {
     "name": "stdout",
     "output_type": "stream",
     "text": [
      "Enter a number from which you want to divide : 222\n",
      "enter the number which you want to divide : 664\n",
      "The remainder of dividing  222  from  664  is :  220\n"
     ]
    }
   ],
   "source": [
    "#Q2 write a program to find the remainder when a number is divided by z\n",
    "\n",
    "z = int(input(\"Enter a number from which you want to divide : \"))\n",
    "\n",
    "num = int(input(\"enter the number which you want to divide : \"))\n",
    "\n",
    "print(\"The remainder of dividing \",z,\" from \",num,\" is : \",(num%z))"
   ]
  },
  {
   "cell_type": "code",
   "execution_count": 13,
   "id": "972c51a0",
   "metadata": {},
   "outputs": [
    {
     "name": "stdout",
     "output_type": "stream",
     "text": [
      "<class 'int'>\n"
     ]
    }
   ],
   "source": [
    "#Q3 check the type of variable assigned using input() function\n",
    "print(type(z))"
   ]
  },
  {
   "cell_type": "code",
   "execution_count": 16,
   "id": "38c26aec",
   "metadata": {},
   "outputs": [
    {
     "name": "stdout",
     "output_type": "stream",
     "text": [
      "a is not greater than b\n"
     ]
    }
   ],
   "source": [
    "#Q4 use comparison operator to find out wheather a given variable a is greater than b or not , take a =34 and b=80\n",
    "a=34\n",
    "b=80\n",
    "print(\"a is greater than b\"if a>b else \"a is not greater than b\")"
   ]
  },
  {
   "cell_type": "code",
   "execution_count": 18,
   "id": "10898d3b",
   "metadata": {},
   "outputs": [
    {
     "name": "stdout",
     "output_type": "stream",
     "text": [
      "enter number first : 20\n",
      "enter the second number : 33\n",
      "the average of two number entered by user are :  26.5\n"
     ]
    }
   ],
   "source": [
    "#Q5 write a program to find to calculate the average of two number entered by user.\n",
    "\n",
    "a = int(input(\"enter number first : \"))\n",
    "b= int(input(\"enter the second number : \"))\n",
    "\n",
    "print(\"the average of two number entered by user are : \", (a+b)/2)"
   ]
  },
  {
   "cell_type": "code",
   "execution_count": 22,
   "id": "88521966",
   "metadata": {},
   "outputs": [
    {
     "name": "stdout",
     "output_type": "stream",
     "text": [
      "enter a number : 19\n",
      "the square of  19  is  361\n",
      "361\n",
      "361\n"
     ]
    }
   ],
   "source": [
    "#Q6 write a python program to calculate square of a number entered by the user\n",
    "\n",
    "num = int(input(\"enter a number : \"))\n",
    "print(\"the square of \",num,\" is \",num*num)\n",
    "\n",
    "print(pow(num,2))\n",
    "\n",
    "print(num**2)"
   ]
  },
  {
   "cell_type": "code",
   "execution_count": null,
   "id": "5161f96c",
   "metadata": {},
   "outputs": [],
   "source": []
  }
 ],
 "metadata": {
  "kernelspec": {
   "display_name": "Python 3 (ipykernel)",
   "language": "python",
   "name": "python3"
  },
  "language_info": {
   "codemirror_mode": {
    "name": "ipython",
    "version": 3
   },
   "file_extension": ".py",
   "mimetype": "text/x-python",
   "name": "python",
   "nbconvert_exporter": "python",
   "pygments_lexer": "ipython3",
   "version": "3.9.13"
  }
 },
 "nbformat": 4,
 "nbformat_minor": 5
}
