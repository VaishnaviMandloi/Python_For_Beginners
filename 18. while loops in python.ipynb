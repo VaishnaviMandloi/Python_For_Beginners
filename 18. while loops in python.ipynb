{
 "cells": [
  {
   "cell_type": "code",
   "execution_count": 19,
   "id": "306b780f",
   "metadata": {},
   "outputs": [
    {
     "name": "stdout",
     "output_type": "stream",
     "text": [
      "enter a odd number: 1\n",
      "enter a odd number: 3\n",
      "enter a odd number: -65\n",
      "enter a odd number: 2\n"
     ]
    }
   ],
   "source": [
    "# while loop : if condition is true then execute the statement , else the interpreter comes out of the while loop.\n",
    "\n",
    "i = int(input('enter a odd number: '))\n",
    "\n",
    "while(i%2!=0):\n",
    "    print(i)\n",
    "    i = int(input('enter a odd number: '))\n",
    "    \n",
    "print(\"number is not odd , its even\")"
   ]
  },
  {
   "cell_type": "code",
   "execution_count": 20,
   "id": "46145ef0",
   "metadata": {},
   "outputs": [
    {
     "name": "stdout",
     "output_type": "stream",
     "text": [
      "enter the total number of student for roll call : 10\n"
     ]
    }
   ],
   "source": [
    "strength = int(input('enter the total number of student for roll call : '))\n",
    "\n",
    "while(strength>0):\n",
    "    i=1\n",
    "    print(i)\n",
    "    i=i+1\n",
    "    strength=strength-1\n",
    "else:\n",
    "    print('rollcall complete.')"
   ]
  },
  {
   "cell_type": "code",
   "execution_count": null,
   "id": "ab4bd15d",
   "metadata": {},
   "outputs": [],
   "source": [
    "# python don't have do-while loop"
   ]
  },
  {
   "cell_type": "code",
   "execution_count": null,
   "id": "9e32dd9e",
   "metadata": {},
   "outputs": [],
   "source": [
    "# elimination of do-while loop\n",
    "i=0\n",
    "while True:\n",
    "    i=i+1 # do condition\n",
    "    if(i%10==0) # while condition\n",
    "    break"
   ]
  },
  {
   "cell_type": "code",
   "execution_count": null,
   "id": "0b19d757",
   "metadata": {},
   "outputs": [],
   "source": []
  }
 ],
 "metadata": {
  "kernelspec": {
   "display_name": "Python 3 (ipykernel)",
   "language": "python",
   "name": "python3"
  },
  "language_info": {
   "codemirror_mode": {
    "name": "ipython",
    "version": 3
   },
   "file_extension": ".py",
   "mimetype": "text/x-python",
   "name": "python",
   "nbconvert_exporter": "python",
   "pygments_lexer": "ipython3",
   "version": "3.9.13"
  }
 },
 "nbformat": 4,
 "nbformat_minor": 5
}
