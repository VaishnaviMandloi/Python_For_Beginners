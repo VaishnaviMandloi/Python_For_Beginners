{
 "cells": [
  {
   "cell_type": "code",
   "execution_count": 5,
   "id": "49ca5e7e",
   "metadata": {},
   "outputs": [
    {
     "name": "stdout",
     "output_type": "stream",
     "text": [
      "4.235294117647059\n",
      "1.3333333333333333\n",
      "-2 is smaller than 3\n",
      "-2 is equal to -2\n",
      "2 is greater than -1\n"
     ]
    }
   ],
   "source": [
    "# Function : it is a block of code that perform a specific task whenever it is called.\n",
    "\n",
    "# built-in function : they are defined and precoded in python\n",
    "# ex: min() max() len() sum() type() range() dict() list() tuple() set() print().\n",
    "\n",
    "# user-defined function : defined by user.\n",
    "\n",
    "def calculateGmean(a,b):\n",
    "    mean = (a*b)/(a+b)\n",
    "    print(mean)\n",
    "    \n",
    "a=9\n",
    "b=8\n",
    "calculateGmean(a,b)\n",
    "c=2\n",
    "d=4\n",
    "calculateGmean(c,d)\n",
    "\n",
    "def isGreater(a,b):\n",
    "    if(a>b):\n",
    "        print(a,'is greater than',b)\n",
    "    elif(a<b):\n",
    "        print(a,'is smaller than',b)\n",
    "    else:\n",
    "        print(a,'is equal to',b)\n",
    "\n",
    "# calling a function\n",
    "isGreater(-2,3)\n",
    "isGreater(-2,-2)\n",
    "isGreater(2,-1)\n",
    "            "
   ]
  },
  {
   "cell_type": "code",
   "execution_count": 6,
   "id": "b6e53b49",
   "metadata": {},
   "outputs": [],
   "source": [
    "# function defination , body will be added later\n",
    "def isLesser(a,b):\n",
    "    pass"
   ]
  },
  {
   "cell_type": "code",
   "execution_count": null,
   "id": "298bd010",
   "metadata": {},
   "outputs": [],
   "source": []
  }
 ],
 "metadata": {
  "kernelspec": {
   "display_name": "Python 3 (ipykernel)",
   "language": "python",
   "name": "python3"
  },
  "language_info": {
   "codemirror_mode": {
    "name": "ipython",
    "version": 3
   },
   "file_extension": ".py",
   "mimetype": "text/x-python",
   "name": "python",
   "nbconvert_exporter": "python",
   "pygments_lexer": "ipython3",
   "version": "3.9.13"
  }
 },
 "nbformat": 4,
 "nbformat_minor": 5
}
