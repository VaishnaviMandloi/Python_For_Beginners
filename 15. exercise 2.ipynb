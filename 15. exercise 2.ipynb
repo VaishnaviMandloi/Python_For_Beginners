{
 "cells": [
  {
   "cell_type": "code",
   "execution_count": 1,
   "id": "3dd5f738",
   "metadata": {},
   "outputs": [],
   "source": [
    "import time"
   ]
  },
  {
   "cell_type": "code",
   "execution_count": 32,
   "id": "b839b804",
   "metadata": {},
   "outputs": [
    {
     "name": "stdout",
     "output_type": "stream",
     "text": [
      "Good Evening !!\n"
     ]
    }
   ],
   "source": [
    "timestamp = int(time.strftime('%H'))\n",
    "timemin = int(time.strftime('%M'))\n",
    "\n",
    "#timestamp = 14\n",
    "#timemin = 0\n",
    "\n",
    "\n",
    "\n",
    "if(timestamp>=12 and timestamp<=17):\n",
    "    if(timemin==0 and timestamp==12):\n",
    "        print(\"Good Noon !!\")\n",
    "    else:\n",
    "            print(\"Good afternoon !!\")\n",
    "elif(timestamp>17 and timestamp<=21):\n",
    "    print(\"Good Evening !!\")\n",
    "elif(timestamp>21 or timestamp<4):\n",
    "    print(\"Good Night !!\")\n",
    "else:\n",
    "    print(\"Good Morning !!\")\n",
    "        \n",
    "\n",
    "    "
   ]
  },
  {
   "cell_type": "code",
   "execution_count": null,
   "id": "d1bdd395",
   "metadata": {},
   "outputs": [],
   "source": []
  }
 ],
 "metadata": {
  "kernelspec": {
   "display_name": "Python 3 (ipykernel)",
   "language": "python",
   "name": "python3"
  },
  "language_info": {
   "codemirror_mode": {
    "name": "ipython",
    "version": 3
   },
   "file_extension": ".py",
   "mimetype": "text/x-python",
   "name": "python",
   "nbconvert_exporter": "python",
   "pygments_lexer": "ipython3",
   "version": "3.9.13"
  }
 },
 "nbformat": 4,
 "nbformat_minor": 5
}
